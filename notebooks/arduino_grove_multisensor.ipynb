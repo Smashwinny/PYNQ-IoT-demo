{
 "cells": [
  {
   "cell_type": "markdown",
   "metadata": {},
   "source": [
    "# Grove multisensor Example\n",
    "\n",
    "This example shows how to use the [Grove IMU](https://www.seeedstudio.com/Grove-IMU-10DOF-v2-0-p-2691.html), [Grove DHT11](https://www.seeedstudio.com/Grove-Temperature-Humidity-Sensor-DHT11-p-745.html), [Grove light_sensor](https://www.seeedstudio.com/Grove-Light-Sensor-v1-2-p-2727.html)on the Pynq-Z2 board.\n",
    "\n",
    "For this notebook,a [Seeed Base shield](https://www.seeedstudio.com/Base-Shield-V2.html)  or a PYNQ Arduino shield is also required.  \n",
    "\n",
    "The following connection is only suit for PYNQ Arduino shield.The IMU is attached to the I2C connection on the shield. DHT11 is attached to G1-G7 connection on the shield(default: G2). Light Sensor is attached to A1-A4 connection on the shield(default:A1)\n",
    "\n",
    "In this example, we can acquire information from multiple sensor. By using these information, we can do land quality inspection and even weather forecast. Here, we use it as a weather recorder.\n",
    "\n",
    "IMU can give us a length of 11 list. [0,1,2]: A list of the acceleration data along X-axis, Y-axis, and Z-axis.[3,4,5]: A list of the gyro data along X-axis, Y-axis, and Z-axis.[6,7,8]: A list of the compass data along X-axis, Y-axis, and Z-axis.[9,10]:  A list of the value of temperature and pressure.\n",
    "\n",
    "DHT11 can give us length of 2 list. [0] is temperature (Celcius), [1] is humidity (percent).\n",
    "\n",
    "Light sensor can give us the intensity of illumination (Lux, max:350).\n",
    "\n",
    "If you prefer Seeed Base shield, we have the connector match up followed.\n",
    "\n",
    "![corresponding](.\\data\\congruent.PNG)\n",
    "\n"
   ]
  },
  {
   "cell_type": "code",
   "execution_count": 1,
   "metadata": {},
   "outputs": [
    {
     "data": {
      "application/javascript": [
       "\n",
       "require(['notebook/js/codecell'], function(codecell) {\n",
       "  codecell.CodeCell.options_default.highlight_modes[\n",
       "      'magic_text/x-csrc'] = {'reg':[/^%%microblaze/]};\n",
       "  Jupyter.notebook.events.one('kernel_ready.Kernel', function(){\n",
       "      Jupyter.notebook.get_cells().map(function(cell){\n",
       "          if (cell.cell_type == 'code'){ cell.auto_highlight(); } }) ;\n",
       "  });\n",
       "});\n"
      ]
     },
     "metadata": {},
     "output_type": "display_data"
    }
   ],
   "source": [
    "# Make sure the base overlay is loaded\n",
    "from pynq.overlays.base import BaseOverlay\n",
    "base = BaseOverlay(\"base.bit\")"
   ]
  },
  {
   "cell_type": "markdown",
   "metadata": {},
   "source": [
    "### 1. Instantiate the IMU, DHT11 and light sensor"
   ]
  },
  {
   "cell_type": "code",
   "execution_count": 2,
   "metadata": {},
   "outputs": [],
   "source": [
    "PINS = {\"ARDUINO_GROVE_G1\":[2,3],\"ARDUINO_GROVE_G2\":[3,4],\"ARDUINO_GROVE_G3\":[4,5],\"ARDUINO_GROVE_G4\":[6,7],\n",
    "        \"ARDUINO_GROVE_G5\":[8,9],\"ARDUINO_GROVE_G6\":[10,11],\"ARDUINO_GROVE_G7\":[12,13],\"ARDUINO_GROVE_I2C\":[18,19]}\n",
    "\n",
    "AL_PINS = [\"CHANNEL_A0\",\"CHANNEL_A1\",\"CHANNEL_A2\",\n",
    "           \"CHANNEL_A3\",\"CHANNEL_A4\",\"CHANNEL_A5\"]"
   ]
  },
  {
   "cell_type": "code",
   "execution_count": 5,
   "metadata": {},
   "outputs": [
    {
     "name": "stdout",
     "output_type": "stream",
     "text": [
      "[3, 0]\n"
     ]
    }
   ],
   "source": [
    "from pynq.lib.arduino import Grove_multi\n",
    "\n",
    "multi = Grove_multi(base.ARDUINO, imu_pin = PINS[\"ARDUINO_GROVE_I2C\"], dth_pin = PINS[\"ARDUINO_GROVE_G2\"], al_pin = AL_PINS[0])"
   ]
  },
  {
   "cell_type": "markdown",
   "metadata": {},
   "source": [
    "### 2. Use multiple sensor to record enough information"
   ]
  },
  {
   "cell_type": "code",
   "execution_count": 6,
   "metadata": {},
   "outputs": [
    {
     "name": "stdout",
     "output_type": "stream",
     "text": [
      "Now, acceleration:[0.55, -0.49, 0.7], gyro:[-0.36, 1.95, 0.66],compass:[2.05, -28.42, 14.65], pressure: 79187568.0, temperature: 18.0C, humidity: 85.0%, light intensity:353.18Lux\n",
      "Now, acceleration:[0.55, -0.49, 0.7], gyro:[-0.36, 1.97, 0.54],compass:[1.46, -27.54, 15.53], pressure: 79187568.0, temperature: 20.0C, humidity: 71.0%, light intensity:353.18Lux\n",
      "Now, acceleration:[0.55, -0.49, 0.7], gyro:[-0.26, 2.14, 0.66],compass:[1.76, -27.83, 15.23], pressure: 79187568.0, temperature: 20.0C, humidity: 77.0%, light intensity:353.18Lux\n",
      "Now, acceleration:[0.55, -0.49, 0.69], gyro:[-0.43, 2.23, 0.78],compass:[2.05, -27.83, 15.23], pressure: 79187568.0, temperature: 20.0C, humidity: 77.0%, light intensity:353.18Lux\n",
      "Now, acceleration:[0.55, -0.49, 0.7], gyro:[-0.42, 1.7, 0.83],compass:[2.05, -27.54, 14.94], pressure: 79187568.0, temperature: 20.0C, humidity: 78.0%, light intensity:353.18Lux\n",
      "Now, acceleration:[0.55, -0.5, 0.69], gyro:[-0.3, 2.33, 0.85],compass:[1.76, -26.95, 15.53], pressure: 79187568.0, temperature: 20.0C, humidity: 78.0%, light intensity:353.18Lux\n",
      "Now, acceleration:[0.52, -0.44, 0.7], gyro:[-2.22, 2.98, -0.13],compass:[2.64, -26.95, 15.82], pressure: 79187568.0, temperature: 20.0C, humidity: 78.0%, light intensity:100.76Lux\n",
      "Now, acceleration:[0.57, -0.45, 0.71], gyro:[-0.47, 1.32, 0.79],compass:[1.17, -28.42, 14.36], pressure: 79187568.0, temperature: 20.0C, humidity: 78.0%, light intensity:33.94Lux\n",
      "Now, acceleration:[0.64, -0.44, 0.65], gyro:[-2.32, 1.34, 0.48],compass:[1.17, -29.3, 14.06], pressure: 79187568.0, temperature: 20.0C, humidity: 78.0%, light intensity:25.45Lux\n",
      "Now, acceleration:[0.68, -0.38, 0.65], gyro:[-0.34, 2.01, 0.56],compass:[-0.0, -28.71, 13.77], pressure: 79187568.0, temperature: 20.0C, humidity: 78.0%, light intensity:12.73Lux\n",
      "Now, acceleration:[0.7, -0.37, 0.65], gyro:[-0.38, 1.67, 0.81],compass:[0.0, -29.59, 14.06], pressure: 79187568.0, temperature: 20.0C, humidity: 79.0%, light intensity:4.24Lux\n",
      "Now, acceleration:[0.69, -0.37, 0.65], gyro:[-0.26, 2.24, 0.59],compass:[0.0, -29.3, 14.06], pressure: 79187568.0, temperature: 20.0C, humidity: 79.0%, light intensity:353.18Lux\n",
      "Now, acceleration:[0.63, -0.43, 0.67], gyro:[-0.18, 2.11, 0.96],compass:[0.88, -28.42, 14.65], pressure: 79187568.0, temperature: 20.0C, humidity: 79.0%, light intensity:353.18Lux\n",
      "Now, acceleration:[0.62, -0.45, 0.67], gyro:[-0.11, 1.91, 0.58],compass:[1.76, -29.0, 14.36], pressure: 79187568.0, temperature: 20.0C, humidity: 79.0%, light intensity:353.18Lux\n",
      "Now, acceleration:[0.62, -0.44, 0.67], gyro:[-0.15, 2.0, 0.71],compass:[1.17, -28.71, 14.94], pressure: 79187568.0, temperature: 20.0C, humidity: 78.0%, light intensity:353.18Lux\n",
      "Now, acceleration:[0.62, -0.45, 0.67], gyro:[-0.24, 1.87, 0.91],compass:[1.17, -29.3, 14.36], pressure: 79187568.0, temperature: 20.0C, humidity: 78.0%, light intensity:353.18Lux\n",
      "Now, acceleration:[0.66, -0.39, 0.68], gyro:[-0.18, 1.72, 0.86],compass:[0.0, -27.83, 14.94], pressure: 79187568.0, temperature: 20.0C, humidity: 78.0%, light intensity:353.18Lux\n"
     ]
    },
    {
     "ename": "KeyboardInterrupt",
     "evalue": "",
     "output_type": "error",
     "traceback": [
      "\u001b[0;31m---------------------------------------------------------------------------\u001b[0m",
      "\u001b[0;31mKeyboardInterrupt\u001b[0m                         Traceback (most recent call last)",
      "\u001b[0;32m<ipython-input-6-eea264a73a33>\u001b[0m in \u001b[0;36m<module>\u001b[0;34m()\u001b[0m\n\u001b[1;32m      6\u001b[0m \u001b[0;32mwhile\u001b[0m\u001b[0;34m(\u001b[0m\u001b[0;36m1\u001b[0m\u001b[0;34m)\u001b[0m\u001b[0;34m:\u001b[0m\u001b[0;34m\u001b[0m\u001b[0m\n\u001b[1;32m      7\u001b[0m     \u001b[0mdata\u001b[0m \u001b[0;34m=\u001b[0m \u001b[0mmulti\u001b[0m\u001b[0;34m.\u001b[0m\u001b[0mget_imu_data\u001b[0m\u001b[0;34m(\u001b[0m\u001b[0;34m)\u001b[0m\u001b[0;34m\u001b[0m\u001b[0m\n\u001b[0;32m----> 8\u001b[0;31m     \u001b[0mDHT\u001b[0m \u001b[0;34m=\u001b[0m \u001b[0mmulti\u001b[0m\u001b[0;34m.\u001b[0m\u001b[0mget_dht_data\u001b[0m\u001b[0;34m(\u001b[0m\u001b[0;34m)\u001b[0m\u001b[0;34m\u001b[0m\u001b[0m\n\u001b[0m\u001b[1;32m      9\u001b[0m     \u001b[0mintensity\u001b[0m \u001b[0;34m=\u001b[0m \u001b[0mmulti\u001b[0m\u001b[0;34m.\u001b[0m\u001b[0mget_al_data\u001b[0m\u001b[0;34m(\u001b[0m\u001b[0;34m)\u001b[0m\u001b[0;34m\u001b[0m\u001b[0m\n\u001b[1;32m     10\u001b[0m     \u001b[0mprint\u001b[0m\u001b[0;34m(\u001b[0m\u001b[0;34m'Now, acceleration:{}, gyro:{},compass:{}, pressure: {}, temperature: {}C, humidity: {}%, light intensity:{}Lux'\u001b[0m\u001b[0;34m.\u001b[0m\u001b[0mformat\u001b[0m\u001b[0;34m(\u001b[0m\u001b[0mdata\u001b[0m\u001b[0;34m[\u001b[0m\u001b[0;36m0\u001b[0m\u001b[0;34m:\u001b[0m\u001b[0;36m3\u001b[0m\u001b[0;34m]\u001b[0m\u001b[0;34m,\u001b[0m \u001b[0mdata\u001b[0m\u001b[0;34m[\u001b[0m\u001b[0;36m3\u001b[0m\u001b[0;34m:\u001b[0m\u001b[0;36m6\u001b[0m\u001b[0;34m]\u001b[0m\u001b[0;34m,\u001b[0m \u001b[0mdata\u001b[0m\u001b[0;34m[\u001b[0m\u001b[0;36m6\u001b[0m\u001b[0;34m:\u001b[0m\u001b[0;36m9\u001b[0m\u001b[0;34m]\u001b[0m\u001b[0;34m,\u001b[0m \u001b[0mdata\u001b[0m\u001b[0;34m[\u001b[0m\u001b[0;36m10\u001b[0m\u001b[0;34m]\u001b[0m\u001b[0;34m,\u001b[0m \u001b[0mDHT\u001b[0m\u001b[0;34m[\u001b[0m\u001b[0;36m0\u001b[0m\u001b[0;34m]\u001b[0m\u001b[0;34m,\u001b[0m\u001b[0mDHT\u001b[0m\u001b[0;34m[\u001b[0m\u001b[0;36m1\u001b[0m\u001b[0;34m]\u001b[0m\u001b[0;34m,\u001b[0m\u001b[0mintensity\u001b[0m\u001b[0;34m)\u001b[0m\u001b[0;34m)\u001b[0m\u001b[0;34m\u001b[0m\u001b[0m\n",
      "\u001b[0;32m/usr/local/lib/python3.6/dist-packages/pynq/lib/arduino/arduino_grove_multisensor.py\u001b[0m in \u001b[0;36mget_dht_data\u001b[0;34m(self)\u001b[0m\n\u001b[1;32m    195\u001b[0m             \u001b[0;34m[\u001b[0m\u001b[0;36m0\u001b[0m\u001b[0;34m,\u001b[0m\u001b[0;36m1\u001b[0m\u001b[0;34m]\u001b[0m \u001b[0mA\u001b[0m \u001b[0mlist\u001b[0m \u001b[0mof\u001b[0m \u001b[0mdata\u001b[0m\u001b[0;34m,\u001b[0m \u001b[0;34m[\u001b[0m\u001b[0;36m0\u001b[0m\u001b[0;34m]\u001b[0m \u001b[0;32mis\u001b[0m \u001b[0mtemperature\u001b[0m \u001b[0;34m(\u001b[0m\u001b[0mCelcius\u001b[0m\u001b[0;34m)\u001b[0m\u001b[0;34m,\u001b[0m \u001b[0;34m[\u001b[0m\u001b[0;36m1\u001b[0m\u001b[0;34m]\u001b[0m \u001b[0;32mis\u001b[0m \u001b[0mhumidity\u001b[0m \u001b[0;34m(\u001b[0m\u001b[0mpercent\u001b[0m\u001b[0;34m)\u001b[0m\u001b[0;34m.\u001b[0m\u001b[0;34m\u001b[0m\u001b[0m\n\u001b[1;32m    196\u001b[0m         \"\"\"\n\u001b[0;32m--> 197\u001b[0;31m         \u001b[0mself\u001b[0m\u001b[0;34m.\u001b[0m\u001b[0mmicroblaze\u001b[0m\u001b[0;34m.\u001b[0m\u001b[0mwrite_blocking_command\u001b[0m\u001b[0;34m(\u001b[0m\u001b[0mGET_DTH_DATA\u001b[0m\u001b[0;34m)\u001b[0m\u001b[0;34m\u001b[0m\u001b[0m\n\u001b[0m\u001b[1;32m    198\u001b[0m         \u001b[0mdata\u001b[0m \u001b[0;34m=\u001b[0m \u001b[0mself\u001b[0m\u001b[0;34m.\u001b[0m\u001b[0mmicroblaze\u001b[0m\u001b[0;34m.\u001b[0m\u001b[0mread_mailbox\u001b[0m\u001b[0;34m(\u001b[0m\u001b[0;36m0\u001b[0m\u001b[0;34m,\u001b[0m \u001b[0;36m2\u001b[0m\u001b[0;34m)\u001b[0m\u001b[0;34m\u001b[0m\u001b[0m\n\u001b[1;32m    199\u001b[0m         \u001b[0;34m[\u001b[0m\u001b[0mtemp\u001b[0m\u001b[0;34m,\u001b[0m \u001b[0mhumi\u001b[0m\u001b[0;34m]\u001b[0m \u001b[0;34m=\u001b[0m \u001b[0;34m[\u001b[0m\u001b[0m_reg2float\u001b[0m\u001b[0;34m(\u001b[0m\u001b[0mi\u001b[0m\u001b[0;34m)\u001b[0m \u001b[0;32mfor\u001b[0m \u001b[0mi\u001b[0m \u001b[0;32min\u001b[0m \u001b[0mdata\u001b[0m\u001b[0;34m]\u001b[0m\u001b[0;34m\u001b[0m\u001b[0m\n",
      "\u001b[0;32m/usr/local/lib/python3.6/dist-packages/pynq/lib/arduino/arduino.py\u001b[0m in \u001b[0;36mwrite_blocking_command\u001b[0;34m(self, command)\u001b[0m\n\u001b[1;32m    153\u001b[0m         \"\"\"\n\u001b[1;32m    154\u001b[0m         \u001b[0mself\u001b[0m\u001b[0;34m.\u001b[0m\u001b[0mwrite\u001b[0m\u001b[0;34m(\u001b[0m\u001b[0mMAILBOX_OFFSET\u001b[0m \u001b[0;34m+\u001b[0m \u001b[0mMAILBOX_PY2IOP_CMD_OFFSET\u001b[0m\u001b[0;34m,\u001b[0m \u001b[0mcommand\u001b[0m\u001b[0;34m)\u001b[0m\u001b[0;34m\u001b[0m\u001b[0m\n\u001b[0;32m--> 155\u001b[0;31m         \u001b[0;32mwhile\u001b[0m \u001b[0mself\u001b[0m\u001b[0;34m.\u001b[0m\u001b[0mread\u001b[0m\u001b[0;34m(\u001b[0m\u001b[0mMAILBOX_OFFSET\u001b[0m \u001b[0;34m+\u001b[0m \u001b[0mMAILBOX_PY2IOP_CMD_OFFSET\u001b[0m\u001b[0;34m)\u001b[0m \u001b[0;34m!=\u001b[0m \u001b[0;36m0\u001b[0m\u001b[0;34m:\u001b[0m\u001b[0;34m\u001b[0m\u001b[0m\n\u001b[0m\u001b[1;32m    156\u001b[0m             \u001b[0;32mpass\u001b[0m\u001b[0;34m\u001b[0m\u001b[0m\n\u001b[1;32m    157\u001b[0m \u001b[0;34m\u001b[0m\u001b[0m\n",
      "\u001b[0;31mKeyboardInterrupt\u001b[0m: "
     ]
    }
   ],
   "source": [
    "from time import sleep\n",
    "\n",
    "data = []\n",
    "DHT = []\n",
    "\n",
    "while(1):\n",
    "    data = multi.get_imu_data()\n",
    "    DHT = multi.get_dht_data()\n",
    "    intensity = multi.get_al_data()\n",
    "    print('Now, acceleration:{}, gyro:{},compass:{}, pressure: {}, temperature: {}C, humidity: {}%, light intensity:{}Lux'.format(data[0:3], data[3:6], data[6:9], data[10], DHT[0],DHT[1],intensity))\n",
    "    #print('Now, acceleration:{}, gyro:{},compass:{}, pressure: {}, light intensity:{}Lux'.format(data[0:3], data[3:6], data[6:9], data[10],intensity))\n",
    "    #print('Now, temperature: {}C, humidity: {}%,'.format(DHT[0],DHT[1]))\n",
    "    sleep(1)\n",
    "    "
   ]
  },
  {
   "cell_type": "markdown",
   "metadata": {},
   "source": [
    "### 3. Apply information to do something\n",
    "You can edit your own algorithm here by using the statistics provided above."
   ]
  },
  {
   "cell_type": "code",
   "execution_count": null,
   "metadata": {},
   "outputs": [],
   "source": []
  }
 ],
 "metadata": {
  "kernelspec": {
   "display_name": "Python 3",
   "language": "python",
   "name": "python3"
  },
  "language_info": {
   "codemirror_mode": {
    "name": "ipython",
    "version": 3
   },
   "file_extension": ".py",
   "mimetype": "text/x-python",
   "name": "python",
   "nbconvert_exporter": "python",
   "pygments_lexer": "ipython3",
   "version": "3.6.5"
  }
 },
 "nbformat": 4,
 "nbformat_minor": 1
}
