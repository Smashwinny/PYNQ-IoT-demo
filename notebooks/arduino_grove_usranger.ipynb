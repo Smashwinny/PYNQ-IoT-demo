{
 "cells": [
  {
   "cell_type": "markdown",
   "metadata": {},
   "source": [
    "# Grove Usranger Example\n",
    "\n",
    "This example shows how to use the [grove_usranger](https://www.seeedstudio.com/Grove-Ultrasonic-Ranger-p-960.html) on the board.\n",
    "\n",
    "For this notebook,a [Seeed Base shield](https://www.seeedstudio.com/Base-Shield-V2.html)  or a PYNQ Arduino shield is also required.The following connection is only suit for PYNQ Arduino shield.The gr_pins of usranger should be set in the G1-G7(default:G1).\n",
    "\n",
    "If you prefer Seeed Base shield, we have the connector match up followed.\n",
    "\n",
    "![corresponding](.\\data\\congruent.PNG)\n"
   ]
  },
  {
   "cell_type": "code",
   "execution_count": null,
   "metadata": {},
   "outputs": [],
   "source": [
    "# Make sure the base overlay is loaded\n",
    "from pynq.overlays.base import BaseOverlay\n",
    "base = BaseOverlay(\"base.bit\")"
   ]
  },
  {
   "cell_type": "markdown",
   "metadata": {},
   "source": [
    "### 1. Instantiate usranger"
   ]
  },
  {
   "cell_type": "markdown",
   "metadata": {},
   "source": [
    "Before use the grove ultrasonic ranger, you should set the pins for them(default:G1).\n",
    "\n",
    "This notebook is also for testing the capacity of grove usranger."
   ]
  },
  {
   "cell_type": "code",
   "execution_count": null,
   "metadata": {},
   "outputs": [],
   "source": [
    "PINS = {\"ARDUINO_GROVE_G1\":[2,3],\"ARDUINO_GROVE_G2\":[3,4],\"ARDUINO_GROVE_G3\":[4,5],\n",
    "           \"ARDUINO_GROVE_G4\":[6,7],\"ARDUINO_GROVE_G5\":[8,9],\"ARDUINO_GROVE_G6\":[10,11],\"ARDUINO_GROVE_G7\":[12,13]}"
   ]
  },
  {
   "cell_type": "code",
   "execution_count": null,
   "metadata": {},
   "outputs": [],
   "source": [
    "from pynq.lib.arduino import Grove_usranger\n",
    "\n",
    "# Instantiate grove_usranger on Arduino\n",
    "grove_us = Grove_usranger(base.ARDUINO,PINS[\"ARDUINO_GROVE_G1\"])\n",
    "#default pins is ARDUINO_GROVE_G1"
   ]
  },
  {
   "cell_type": "markdown",
   "metadata": {},
   "source": [
    "### 2. Test the capacity of usranger\n",
    "\n",
    "run the code below, usranger will print the distance every second"
   ]
  },
  {
   "cell_type": "code",
   "execution_count": null,
   "metadata": {},
   "outputs": [],
   "source": [
    "from time import sleep\n",
    "while (1):\n",
    "    print(grove_us.get_distance())\n",
    "    sleep(1)"
   ]
  },
  {
   "cell_type": "code",
   "execution_count": null,
   "metadata": {},
   "outputs": [],
   "source": []
  }
 ],
 "metadata": {
  "kernelspec": {
   "display_name": "Python 3",
   "language": "python",
   "name": "python3"
  },
  "language_info": {
   "codemirror_mode": {
    "name": "ipython",
    "version": 3
   },
   "file_extension": ".py",
   "mimetype": "text/x-python",
   "name": "python",
   "nbconvert_exporter": "python",
   "pygments_lexer": "ipython3",
   "version": "3.6.5"
  }
 },
 "nbformat": 4,
 "nbformat_minor": 1
}
