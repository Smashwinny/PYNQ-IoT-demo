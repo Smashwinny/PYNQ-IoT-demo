{
 "cells": [
  {
   "cell_type": "markdown",
   "metadata": {},
   "source": [
    "# Grove autoalarm Example\n",
    "\n",
    "This example shows how to combine the[Grove LED Bar](http://www.seeedstudio.com/depot/Grove-LED-Bar-v20-p-2474.html) , [grove_usranger](https://www.seeedstudio.com/Grove-Ultrasonic-Ranger-p-960.html) and [Seeed Base shield](https://www.seeedstudio.com/Base-Shield-V2.html)/PYNQ Arduino shield on the Pynq-Z2 board.  The LED bar has 10 LEDs: 8 green LEDs, 1 orange LED, and 1 red LED. The brightness for each LED can be set independantly.\n",
    "\n",
    "For this notebook,a Seeed Base shield or a PYNQ Arduino shield is required.  \n",
    "\n",
    "The following connection is only suit for PYNQ Arduino shield. The LED bar is attached to the G4 connection on the shield and the gr_pins of usranger should be set in the G1-G7(default:G1).\n",
    "If you prefer Seeed Base shield, we have the connector comparison table followed.You should connect the circuit base on the comparison table. If you want to set other connection, you should select the connection in the table and change the responding code with 'G' still instead of 'D'.\n",
    "\n",
    "![corresponding](./data/congruent.PNG)\n",
    "\n"
   ]
  },
  {
   "cell_type": "code",
   "execution_count": 1,
   "metadata": {},
   "outputs": [
    {
     "data": {
      "application/javascript": [
       "\n",
       "require(['notebook/js/codecell'], function(codecell) {\n",
       "  codecell.CodeCell.options_default.highlight_modes[\n",
       "      'magic_text/x-csrc'] = {'reg':[/^%%microblaze/]};\n",
       "  Jupyter.notebook.events.one('kernel_ready.Kernel', function(){\n",
       "      Jupyter.notebook.get_cells().map(function(cell){\n",
       "          if (cell.cell_type == 'code'){ cell.auto_highlight(); } }) ;\n",
       "  });\n",
       "});\n"
      ]
     },
     "metadata": {},
     "output_type": "display_data"
    }
   ],
   "source": [
    "# Make sure the base overlay is loaded\n",
    "from pynq.overlays.base import BaseOverlay\n",
    "base = BaseOverlay(\"base.bit\")"
   ]
  },
  {
   "cell_type": "markdown",
   "metadata": {},
   "source": [
    "### 1. Instantiate and reset LED Bar and Usranger"
   ]
  },
  {
   "cell_type": "code",
   "execution_count": 2,
   "metadata": {},
   "outputs": [],
   "source": [
    "PINS = {\"ARDUINO_GROVE_G1\":[2,3],\"ARDUINO_GROVE_G2\":[3,4],\"ARDUINO_GROVE_G3\":[4,5],\n",
    "        \"ARDUINO_GROVE_G4\":[6,7],\"ARDUINO_GROVE_G5\":[8,9],\"ARDUINO_GROVE_G6\":[10,11],\"ARDUINO_GROVE_G7\":[12,13]}"
   ]
  },
  {
   "cell_type": "code",
   "execution_count": 3,
   "metadata": {},
   "outputs": [],
   "source": [
    "from pynq.lib.arduino import Grove_autoalarm\n",
    "# Instantiate Grove LED Bar on Arduino shield G4 and Grove Usranger on G1 .\n",
    "# If you want to change the default connection, you should change your selected connection here.\n",
    "grove_autoalarm = Grove_autoalarm(base.ARDUINO,PINS[\"ARDUINO_GROVE_G1\"],PINS['ARDUINO_GROVE_G4'])\n",
    "grove_autoalarm.write_binary(0b1111111111)"
   ]
  },
  {
   "cell_type": "markdown",
   "metadata": {},
   "source": [
    "### 2. Use LED Bar demonstrate the distance\n",
    "\n",
    "Write a 10-bit binary pattern, with each bit representing the corresponding LED. 1 = on, 0 = off"
   ]
  },
  {
   "cell_type": "code",
   "execution_count": 4,
   "metadata": {},
   "outputs": [],
   "source": [
    "from time import sleep\n",
    "\n",
    "led_state = [0b1111111111, 0b0111111111, 0b0011111111, 0b0001111111, 0b0000111111, 0b0000011111,\n",
    "             0b0000001111, 0b0000000111, 0b0000000011, 0b0000000001, 0b0000000000]\n",
    "\n",
    "grove_autoalarm.write_binary(0b1111111111)\n",
    "\n",
    "#ten states, closer the distance, less the bright led.\n",
    "#while(1):\n",
    "#    distance = grove_autoalarm.get_distance()\n",
    " #   print(distance)\n",
    "#  if distance > 100: grove_autoalarm.write_binary(led_state[0])\n",
    " #   elif 90 < distance < 100: grove_autoalarm.write_binary(led_state[1])\n",
    "#  elif 80 < distance < 90: grove_autoalarm.write_binary(led_state[2])\n",
    "#    elif 70 < distance < 80: grove_autoalarm.write_binary(led_state[3])\n",
    " #   elif 60 < distance < 70: grove_autoalarm.write_binary(led_state[4])\n",
    "#  elif 50 < distance < 60: grove_autoalarm.write_binary(led_state[5])\n",
    "#    elif 40 < distance < 50: grove_autoalarm.write_binary(led_state[6])\n",
    " #   elif 30 < distance < 40: grove_autoalarm.write_binary(led_state[7])\n",
    "#  elif 20 < distance < 30: grove_autoalarm.write_binary(led_state[8])\n",
    "#    elif 10 < distance < 20: grove_autoalarm.write_binary(led_state[9])\n",
    " #   elif distance < 10: grove_autoalarm.write_binary(led_state[10])\n",
    "#  sleep(0.2)"
   ]
  },
  {
   "cell_type": "code",
   "execution_count": 5,
   "metadata": {},
   "outputs": [
    {
     "name": "stdout",
     "output_type": "stream",
     "text": [
      "500\n",
      "500\n",
      "500\n",
      "500\n",
      "500\n",
      "500\n",
      "500\n",
      "500\n",
      "500\n",
      "500\n",
      "500\n",
      "500\n",
      "500\n",
      "500\n",
      "500\n",
      "500\n",
      "500\n",
      "500\n",
      "500\n",
      "500\n",
      "500\n",
      "500\n",
      "500\n",
      "500\n",
      "7.450172413793104\n",
      "4.821551724137931\n",
      "2.397758620689655\n",
      "1.3736206896551724\n",
      "2.5343103448275865\n",
      "9.12293103448276\n",
      "15.779827586206897\n",
      "24.99706896551724\n",
      "500\n",
      "14.482586206896553\n",
      "7.996379310344828\n",
      "5.367758620689655\n",
      "2.9098275862068967\n",
      "5.401896551724138\n",
      "10.76155172413793\n",
      "17.008793103448276\n",
      "20.695689655172416\n",
      "18.03293103448276\n",
      "500\n",
      "500\n",
      "500\n",
      "500\n",
      "500\n",
      "500\n"
     ]
    },
    {
     "ename": "KeyboardInterrupt",
     "evalue": "",
     "output_type": "error",
     "traceback": [
      "\u001b[0;31m---------------------------------------------------------------------------\u001b[0m",
      "\u001b[0;31mKeyboardInterrupt\u001b[0m                         Traceback (most recent call last)",
      "\u001b[0;32m<ipython-input-5-229ce4d9ae8a>\u001b[0m in \u001b[0;36m<module>\u001b[0;34m()\u001b[0m\n\u001b[1;32m     18\u001b[0m     \u001b[0;32melif\u001b[0m \u001b[0;36m0.1\u001b[0m\u001b[0;34m*\u001b[0m\u001b[0mscale\u001b[0m \u001b[0;34m<\u001b[0m \u001b[0mdistance\u001b[0m \u001b[0;34m<\u001b[0m \u001b[0;36m0.2\u001b[0m\u001b[0;34m*\u001b[0m\u001b[0mscale\u001b[0m\u001b[0;34m:\u001b[0m \u001b[0mgrove_autoalarm\u001b[0m\u001b[0;34m.\u001b[0m\u001b[0mwrite_binary\u001b[0m\u001b[0;34m(\u001b[0m\u001b[0mled_state\u001b[0m\u001b[0;34m[\u001b[0m\u001b[0;36m9\u001b[0m\u001b[0;34m]\u001b[0m\u001b[0;34m)\u001b[0m\u001b[0;34m\u001b[0m\u001b[0m\n\u001b[1;32m     19\u001b[0m     \u001b[0;32melif\u001b[0m \u001b[0mdistance\u001b[0m \u001b[0;34m<\u001b[0m \u001b[0;36m0.1\u001b[0m\u001b[0;34m*\u001b[0m\u001b[0mscale\u001b[0m\u001b[0;34m:\u001b[0m \u001b[0mgrove_autoalarm\u001b[0m\u001b[0;34m.\u001b[0m\u001b[0mwrite_binary\u001b[0m\u001b[0;34m(\u001b[0m\u001b[0mled_state\u001b[0m\u001b[0;34m[\u001b[0m\u001b[0;36m10\u001b[0m\u001b[0;34m]\u001b[0m\u001b[0;34m)\u001b[0m\u001b[0;34m\u001b[0m\u001b[0m\n\u001b[0;32m---> 20\u001b[0;31m     \u001b[0msleep\u001b[0m\u001b[0;34m(\u001b[0m\u001b[0mresponse\u001b[0m\u001b[0;34m)\u001b[0m\u001b[0;34m\u001b[0m\u001b[0m\n\u001b[0m",
      "\u001b[0;31mKeyboardInterrupt\u001b[0m: "
     ]
    }
   ],
   "source": [
    "Min=5\n",
    "Max=20\n",
    "response=0.2\n",
    "# you can change the parameter here to change the accuracy and the speed of response\n",
    "scale=Max-Min\n",
    "while(1):\n",
    "    distance = grove_autoalarm.get_distance()\n",
    "    print(distance)\n",
    "    if distance > scale: grove_autoalarm.write_binary(led_state[0])\n",
    "    elif 0.9*scale < distance < scale: grove_autoalarm.write_binary(led_state[1])\n",
    "    elif 0.8*scale < distance < 0.9*scale: grove_autoalarm.write_binary(led_state[2])\n",
    "    elif 0.7*scale < distance < 0.8*scale: grove_autoalarm.write_binary(led_state[3])\n",
    "    elif 0.6*scale < distance < 0.7*scale: grove_autoalarm.write_binary(led_state[4])\n",
    "    elif 0.5*scale < distance < 0.6*scale: grove_autoalarm.write_binary(led_state[5])\n",
    "    elif 0.4*scale < distance < 0.5*scale: grove_autoalarm.write_binary(led_state[6])\n",
    "    elif 0.3*scale < distance < 0.4*scale: grove_autoalarm.write_binary(led_state[7])\n",
    "    elif 0.2*scale < distance < 0.3*scale: grove_autoalarm.write_binary(led_state[8])\n",
    "    elif 0.1*scale < distance < 0.2*scale: grove_autoalarm.write_binary(led_state[9])\n",
    "    elif distance < 0.1*scale: grove_autoalarm.write_binary(led_state[10])\n",
    "    sleep(response)"
   ]
  },
  {
   "cell_type": "code",
   "execution_count": null,
   "metadata": {},
   "outputs": [],
   "source": []
  }
 ],
 "metadata": {
  "kernelspec": {
   "display_name": "Python 3",
   "language": "python",
   "name": "python3"
  },
  "language_info": {
   "codemirror_mode": {
    "name": "ipython",
    "version": 3
   },
   "file_extension": ".py",
   "mimetype": "text/x-python",
   "name": "python",
   "nbconvert_exporter": "python",
   "pygments_lexer": "ipython3",
   "version": "3.6.5"
  }
 },
 "nbformat": 4,
 "nbformat_minor": 1
}
