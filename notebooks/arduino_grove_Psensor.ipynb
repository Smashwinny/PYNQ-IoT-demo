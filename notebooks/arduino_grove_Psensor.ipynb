{
 "cells": [
  {
   "cell_type": "markdown",
   "metadata": {},
   "source": [
    "# Grove Pedestrains sensor Example\n",
    "\n",
    "This example shows how to use the [Grove Mini PIR](https://www.seeedstudio.com/Grove-mini-PIR-motion-sensor-p-2930.html) and [Grove relay](https://www.seeedstudio.com/Grove-Relay-p-769.html) on the Pynq-Z2 board.\n",
    "\n",
    "For this notebook,a [Seeed Base shield](https://www.seeedstudio.com/Base-Shield-V2.html) or a PYNQ Arduino shield is also required.\n",
    "The following connection is only suit for PYNQ Arduino shield.The Mini PIR is attached to the G1-G7 connection on the shield(default:G3). The relay is attached to the G1-G7 connection on the shield, too(default:G5)\n",
    "We use relay as a indicator.\n",
    "\n",
    "If you prefer Seeed Base shield, we have the connector match up followed.\n",
    "\n",
    "![corresponding](.\\data\\congruent.PNG)\n"
   ]
  },
  {
   "cell_type": "code",
   "execution_count": 1,
   "metadata": {},
   "outputs": [
    {
     "data": {
      "application/javascript": [
       "\n",
       "require(['notebook/js/codecell'], function(codecell) {\n",
       "  codecell.CodeCell.options_default.highlight_modes[\n",
       "      'magic_text/x-csrc'] = {'reg':[/^%%microblaze/]};\n",
       "  Jupyter.notebook.events.one('kernel_ready.Kernel', function(){\n",
       "      Jupyter.notebook.get_cells().map(function(cell){\n",
       "          if (cell.cell_type == 'code'){ cell.auto_highlight(); } }) ;\n",
       "  });\n",
       "});\n"
      ]
     },
     "metadata": {},
     "output_type": "display_data"
    }
   ],
   "source": [
    "# Make sure the base overlay is loaded\n",
    "from pynq.overlays.base import BaseOverlay\n",
    "base = BaseOverlay(\"base.bit\")"
   ]
  },
  {
   "cell_type": "markdown",
   "metadata": {},
   "source": [
    "### 1. Instantiate the Mini PIR and Relay"
   ]
  },
  {
   "cell_type": "code",
   "execution_count": 2,
   "metadata": {},
   "outputs": [],
   "source": [
    "PINS = {\"ARDUINO_GROVE_G1\":[2,3],\"ARDUINO_GROVE_G2\":[3,4],\"ARDUINO_GROVE_G3\":[4,5],\"ARDUINO_GROVE_G4\":[6,7],\n",
    "        \"ARDUINO_GROVE_G5\":[8,9],\"ARDUINO_GROVE_G6\":[10,11],\"ARDUINO_GROVE_G7\":[12,13],\"ARDUINO_GROVE_I2C\":[18,19]}"
   ]
  },
  {
   "cell_type": "code",
   "execution_count": null,
   "metadata": {},
   "outputs": [],
   "source": [
    "from pynq.lib.arduino import Grove_psensor\n",
    "\n",
    "# Instantiate Grove Mini PIR on Arduino shield G3, Grove Relay on Arduino shield G5\n",
    "psensor = Grove_psensor(base.ARDUINO, PINS[\"ARDUINO_GROVE_G3\"], PINS[\"ARDUINO_GROVE_G5\"])"
   ]
  },
  {
   "cell_type": "markdown",
   "metadata": {},
   "source": [
    "### 2. Use Mini PIR record the number of pedestrains and demonstrate it by using Relay\n",
    "when people pass, the led of relay will turn on for about 4 seconds."
   ]
  },
  {
   "cell_type": "code",
   "execution_count": null,
   "metadata": {},
   "outputs": [
    {
     "name": "stdout",
     "output_type": "stream",
     "text": [
      "There are 1 people passed\n",
      "There are 2 people passed\n",
      "There are 3 people passed\n",
      "There are 4 people passed\n",
      "There are 5 people passed\n",
      "There are 6 people passed\n",
      "There are 7 people passed\n",
      "There are 8 people passed\n",
      "There are 9 people passed\n",
      "There are 10 people passed\n",
      "There are 11 people passed\n",
      "There are 12 people passed\n",
      "There are 13 people passed\n",
      "There are 14 people passed\n",
      "There are 15 people passed\n",
      "There are 16 people passed\n"
     ]
    }
   ],
   "source": [
    "from time import sleep\n",
    "\n",
    "count = 0\n",
    "\n",
    "psensor.write_relay(0)\n",
    "\n",
    "while(1):\n",
    "    vol = psensor.read_pir()\n",
    "    if(vol == 1):\n",
    "        count = count + 1\n",
    "        print(\"There are {} people passed\".format(count))\n",
    "        psensor.write_relay(1)\n",
    "        while(psensor.read_pir() == 1): pass\n",
    "    psensor.write_relay(0)"
   ]
  },
  {
   "cell_type": "code",
   "execution_count": null,
   "metadata": {},
   "outputs": [],
   "source": []
  }
 ],
 "metadata": {
  "kernelspec": {
   "display_name": "Python 3",
   "language": "python",
   "name": "python3"
  },
  "language_info": {
   "codemirror_mode": {
    "name": "ipython",
    "version": 3
   },
   "file_extension": ".py",
   "mimetype": "text/x-python",
   "name": "python",
   "nbconvert_exporter": "python",
   "pygments_lexer": "ipython3",
   "version": "3.6.5"
  }
 },
 "nbformat": 4,
 "nbformat_minor": 1
}
